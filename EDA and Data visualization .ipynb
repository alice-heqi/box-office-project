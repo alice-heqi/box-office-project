{
 "cells": [
  {
   "cell_type": "markdown",
   "metadata": {},
   "source": [
    "# EDA and Data visualization"
   ]
  },
  {
   "cell_type": "code",
   "execution_count": 1,
   "metadata": {},
   "outputs": [],
   "source": [
    "import pandas as pd\n",
    "import numpy as np\n",
    "import matplotlib.pyplot as plt\n",
    "import seaborn as sns\n",
    "import re\n",
    "import datetime"
   ]
  },
  {
   "cell_type": "code",
   "execution_count": null,
   "metadata": {},
   "outputs": [],
   "source": [
    "mycursor2.execute(\"SELECT * FROM allinfo\")\n",
    "rows = mycursor2.fetchall()\n",
    "all_movie_info=[]\n",
    "for row in rows:\n",
    "   row=list(row)\n",
    "   all_movie_info.append(row)\n",
    "\n",
    "all_movie_info=pd.DataFrame(all_movie_info)"
   ]
  },
  {
   "cell_type": "code",
   "execution_count": null,
   "metadata": {},
   "outputs": [],
   "source": [
    "#### Data visualization after dropping irrelevant columns such as 'table_id' ####"
   ]
  },
  {
   "cell_type": "code",
   "execution_count": null,
   "metadata": {},
   "outputs": [],
   "source": [
    "### correlation matrix and scatter plot for quantitive variables"
   ]
  },
  {
   "cell_type": "code",
   "execution_count": null,
   "metadata": {},
   "outputs": [],
   "source": [
    "corr=all_movie_info.corr()\n",
    "plt.figure(figsize=(10, 10))\n",
    "sns.heatmap(corr, annot=True)\n",
    "plt.show()"
   ]
  },
  {
   "cell_type": "code",
   "execution_count": null,
   "metadata": {},
   "outputs": [],
   "source": [
    "sns.scatterplot(x=all_movie_info2['Duration_min'],y=all_movie_info2['Total_revnue'])\n",
    "sns.scatterplot(x=all_movie_info2['In_release_days'],y=all_movie_info2['Total_revnue'])\n",
    "sns.scatterplot(x=all_movie_info2['Widest_release_theaters'],y=all_movie_info2['Total_revnue'])"
   ]
  },
  {
   "cell_type": "code",
   "execution_count": null,
   "metadata": {},
   "outputs": [],
   "source": [
    "### relation plots between categorical variables and target"
   ]
  },
  {
   "cell_type": "code",
   "execution_count": null,
   "metadata": {},
   "outputs": [],
   "source": [
    "all_movie_info2.groupby('release_month')['Total_revnue'].sum().plot.bar()\n",
    "all_movie_info2.groupby('release_month')['Total_revnue'].mean().plot.bar()\n",
    "all_movie_info2.groupby('Year')['Total_revnue'].sum().plot.bar()\n",
    "all_movie_info2.groupby('Year')['Total_revnue'].mean().plot.bar()\n",
    "all_movie_info2.groupby('release_day_of_week')['Total_revnue'].sum().plot.bar()\n",
    "all_movie_info2.groupby('release_day_of_week')['Total_revnue'].mean().plot.bar()"
   ]
  },
  {
   "cell_type": "code",
   "execution_count": null,
   "metadata": {},
   "outputs": [],
   "source": [
    "com_rev=all_movie_info2.groupby('Company')['Total_revnue'].sum().to_frame()\n",
    "com_rev.reset_index(inplace=True)\n",
    "com_rev=com_rev.sort_values(by=['Total_revnue'],ascending=False)\n",
    "np.random.seed(0)\n",
    "n, p = 40, 8\n",
    "d = np.random.normal(0, 2, (n, p))\n",
    "d += np.log(np.arange(1, p + 1)) * -5 + 10\n",
    "\n",
    "sns.set_style('ticks')\n",
    "fig, ax = plt.subplots()\n",
    "\n",
    "fig.set_size_inches(11.7, 8.27)\n",
    "sns.barplot(x='Total_revnue',y='Company',data=com_rev.iloc[:26,:], ax=ax)    \n",
    "sns.despine()\n",
    "plt.title('company vs total_revenue')\n",
    "fig.savefig('example.png')"
   ]
  },
  {
   "cell_type": "code",
   "execution_count": null,
   "metadata": {},
   "outputs": [],
   "source": [
    "gen_rev=all_movie_info2.groupby('genre0')['Total_revnue'].sum().to_frame()\n",
    "gen_rev.reset_index(inplace=True)\n",
    "gen_rev=gen_rev.sort_values(by=['Total_revnue'],ascending=False)\n",
    "np.random.seed(0)\n",
    "n, p = 40, 8\n",
    "d = np.random.normal(0, 2, (n, p))\n",
    "d += np.log(np.arange(1, p + 1)) * -5 + 10\n",
    "\n",
    "sns.set_style('ticks')\n",
    "fig, ax = plt.subplots()\n",
    "\n",
    "fig.set_size_inches(11.7, 8.27)\n",
    "sns.barplot(x='Total_revnue',y='genre0',data=gen_rev, ax=ax)    \n",
    "sns.despine()\n",
    "plt.title('genre vs total_revenue')\n",
    "fig.savefig('example.png')"
   ]
  },
  {
   "cell_type": "code",
   "execution_count": null,
   "metadata": {},
   "outputs": [],
   "source": [
    "sns.distplot(all_movie_info2['Total_revnue'])"
   ]
  },
  {
   "cell_type": "code",
   "execution_count": null,
   "metadata": {},
   "outputs": [],
   "source": [
    "sns.distplot(all_movie_info2.groupby('genre0')['Duration_min'].mean().sort_values(ascending=False))"
   ]
  },
  {
   "cell_type": "code",
   "execution_count": null,
   "metadata": {},
   "outputs": [],
   "source": [
    "gen_dur=all_movie_info2.groupby('genre0')['Duration_min'].mean().to_frame()\n",
    "gen_dur.reset_index(inplace=True)\n",
    "clrs = ['brown' if (x < 116 and x > 100) else 'grey' for x in gen_dur.Duration_min ]\n",
    "sns.barplot(y='genre0', x='Duration_min', data=gen_dur,palette=clrs)"
   ]
  },
  {
   "cell_type": "code",
   "execution_count": null,
   "metadata": {},
   "outputs": [],
   "source": []
  }
 ],
 "metadata": {
  "kernelspec": {
   "display_name": "Python 3",
   "language": "python",
   "name": "python3"
  },
  "language_info": {
   "codemirror_mode": {
    "name": "ipython",
    "version": 3
   },
   "file_extension": ".py",
   "mimetype": "text/x-python",
   "name": "python",
   "nbconvert_exporter": "python",
   "pygments_lexer": "ipython3",
   "version": "3.7.4"
  }
 },
 "nbformat": 4,
 "nbformat_minor": 4
}
