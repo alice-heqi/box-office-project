{
 "cells": [
  {
   "cell_type": "markdown",
   "metadata": {},
   "source": [
    "# Crawling data from box office webpage and load to AWS Mysql Server"
   ]
  },
  {
   "cell_type": "code",
   "execution_count": 1,
   "metadata": {},
   "outputs": [],
   "source": [
    "import urllib.request, urllib.parse, urllib.error\n",
    "from bs4 import BeautifulSoup\n",
    "import ssl\n",
    "import pandas as pd\n",
    "import numpy as np\n",
    "import matplotlib.pyplot as plt\n",
    "import requests\n",
    "import re"
   ]
  },
  {
   "cell_type": "code",
   "execution_count": 2,
   "metadata": {},
   "outputs": [],
   "source": [
    "ctx = ssl.create_default_context()\n",
    "ctx.check_hostname = False\n",
    "ctx.verify_mode = ssl.CERT_NONE"
   ]
  },
  {
   "cell_type": "code",
   "execution_count": 3,
   "metadata": {},
   "outputs": [
    {
     "name": "stdout",
     "output_type": "stream",
     "text": [
      "Requirement already satisfied: mysql-connector-python in /opt/anaconda3/lib/python3.7/site-packages (8.0.21)\n",
      "Requirement already satisfied: protobuf>=3.0.0 in /opt/anaconda3/lib/python3.7/site-packages (from mysql-connector-python) (3.11.4)\n",
      "Requirement already satisfied: six>=1.9 in /opt/anaconda3/lib/python3.7/site-packages (from protobuf>=3.0.0->mysql-connector-python) (1.14.0)\n",
      "Requirement already satisfied: setuptools in /opt/anaconda3/lib/python3.7/site-packages (from protobuf>=3.0.0->mysql-connector-python) (46.1.3.post20200330)\n",
      "Note: you may need to restart the kernel to use updated packages.\n"
     ]
    }
   ],
   "source": [
    "pip install mysql-connector-python"
   ]
  },
  {
   "cell_type": "code",
   "execution_count": 4,
   "metadata": {},
   "outputs": [],
   "source": [
    "import mysql.connector"
   ]
  },
  {
   "cell_type": "code",
   "execution_count": 5,
   "metadata": {},
   "outputs": [],
   "source": [
    "####create function to get web link to 2015-2019 boxoffice Domestic Yearly Gross table####"
   ]
  },
  {
   "cell_type": "code",
   "execution_count": 5,
   "metadata": {},
   "outputs": [],
   "source": [
    "def get_url(year):\n",
    "    url = 'https://www.boxofficemojo.com/year/'+str(year)+'/?grossesOption=calendarGrosses'\n",
    "    return url"
   ]
  },
  {
   "cell_type": "code",
   "execution_count": 7,
   "metadata": {},
   "outputs": [],
   "source": [
    "####create function to scrape data from box-office"
   ]
  },
  {
   "cell_type": "code",
   "execution_count": 6,
   "metadata": {},
   "outputs": [],
   "source": [
    "def main_table(url):  \n",
    "\n",
    "  html = urllib.request.urlopen(url, context=ctx).read()\n",
    "  soup = BeautifulSoup(html, 'html.parser')\n",
    "\n",
    "  t1=soup.find_all('table')\n",
    "\n",
    "  t2=t1[0].find_all('tr')\n",
    "\n",
    "  row=[]\n",
    "  for i in range(1,len(t2)):\n",
    "    row.append(t2[i].find_all('td'))\n",
    "\n",
    "  t3=[]\n",
    "  for i in range(len(row)):\n",
    "    test=[]\n",
    "    for j in row[i]:\n",
    "      test.append(j.get_text())\n",
    "    t3.append(test)\n",
    "\n",
    "  main_info=[]\n",
    "  for i in t3:\n",
    "    r=[]\n",
    "    for j in [0,1,5,6,7,8]:\n",
    "      r.append(i[j])\n",
    "    main_info.append(r)\n",
    "\n",
    "  return main_info"
   ]
  },
  {
   "cell_type": "code",
   "execution_count": 12,
   "metadata": {},
   "outputs": [],
   "source": [
    "#### extract web link to detail info of each movie ####"
   ]
  },
  {
   "cell_type": "code",
   "execution_count": 13,
   "metadata": {},
   "outputs": [],
   "source": [
    "def detail_link(url):\n",
    "  html = urllib.request.urlopen(url, context=ctx).read()\n",
    "  soup = BeautifulSoup(html, 'html.parser')\n",
    "  tags = soup('a')\n",
    "  lk =[]\n",
    "  for tag in tags:\n",
    "    i=tag.get('href',None)\n",
    "    if i.startswith('/release'):\n",
    "      lk.append(i)\n",
    "  return lk"
   ]
  },
  {
   "cell_type": "code",
   "execution_count": 14,
   "metadata": {},
   "outputs": [],
   "source": [
    "detail_lk_2019=detail_link(lk2019)"
   ]
  },
  {
   "cell_type": "code",
   "execution_count": 15,
   "metadata": {},
   "outputs": [],
   "source": [
    "#### crawling detail info of each movie, like \"genre\", from box office "
   ]
  },
  {
   "cell_type": "code",
   "execution_count": 16,
   "metadata": {},
   "outputs": [],
   "source": [
    "def detail(url):\n",
    "  url_link1='https://www.boxofficemojo.com'+url\n",
    "  html2 = urllib.request.urlopen(url_link1, context=ctx).read()\n",
    "  soup2 = BeautifulSoup(html2, 'html.parser')\n",
    "\n",
    "  table_id=re.findall('/release/(r.+)/',url)\n",
    "\n",
    "  a1=soup2.find_all('main')\n",
    "  a2=a1[0].find_all('div',attrs={'class':'a-section a-spacing-none mojo-performance-summary-table'})\n",
    "  a3=a2[0].find_all('span')\n",
    "  test2=[i.get_text(strip=True) for i in a3]\n",
    "  row_1={}\n",
    "  #dic_index=['Domestic%','Dome_revenue','International%','Inte_revenue','Total_revnue']\n",
    "  for i in range(len(test2)):\n",
    "    if test2[i].startswith('Domestic'):\n",
    "      row_1['Domestic%']=test2[i+1]\n",
    "      row_1['Dome_revenue']=test2[i+2]\n",
    "    elif test2[i].startswith('International'):\n",
    "      row_1['International%']=test2[i+1]\n",
    "      row_1['Inte_revenue']=test2[i+2]\n",
    "    elif test2[i].startswith('World'):\n",
    "      row_1['Total_revnue']=test2[i+1]\n",
    "    else:\n",
    "      continue\n",
    "  test3=list(row_1.values())\n",
    "    \n",
    "  c1=soup2.find_all('div',attrs={'class':'a-section a-spacing-none mojo-summary-values mojo-hidden-from-mobile'})\n",
    "  c2=c1[0].find_all('span')\n",
    "  c3=[i.get_text(strip=';').strip() for i in c2]\n",
    "  dic_index2=['Distributor','Budget','Release_date','Duration','Genre','In_release','Widest_release']\n",
    "  row_3={}\n",
    "  for i in range(len(c3)):\n",
    "    if c3[i].startswith('Distributor'):\n",
    "      row_3['Distributor']=c3[i+1]\n",
    "    elif c3[i].startswith('Budget'):\n",
    "      row_3['Budget']=c3[i+1]\n",
    "    elif c3[i].startswith('Release Date'):\n",
    "      row_3['Release_date']=c3[i+1]\n",
    "    elif c3[i].startswith('Running Time'):\n",
    "      row_3['Duration']=c3[i+1]\n",
    "    elif c3[i].startswith('Genres'):\n",
    "      row_3['Genre']=c3[i+1].split('\\n    \\n        ')\n",
    "    elif c3[i].startswith('In Release'):\n",
    "      row_3['In_release']=c3[i+1].split('/')\n",
    "    elif c3[i].startswith('Widest Release'):\n",
    "      row_3['Widest_release']=c3[i+1]\n",
    "    else:\n",
    "      continue\n",
    "\n",
    "  keys=list(row_3.keys())\n",
    "  if 'Budget' not in keys:\n",
    "    row_3['Budget']='-'\n",
    "  if 'Duration' not in keys:\n",
    "    row_3['Duration']='-'\n",
    "  if 'Genre' not in keys:\n",
    "    row_3['Genre']='-'\n",
    "  if 'Widest_release' not in keys:\n",
    "    row_3['Widest_release']='-'\n",
    "\n",
    "  c4=[]\n",
    "  for i in dic_index2:\n",
    "    val=row_3[i]\n",
    "    c4.append(val)\n",
    "\n",
    "  final=table_id+test3+c4\n",
    "  return final"
   ]
  },
  {
   "cell_type": "code",
   "execution_count": 14,
   "metadata": {},
   "outputs": [],
   "source": [
    "#### connect to AWS Mysql Server and create table for main_info of 2015 to 2019 and details of each movie ####"
   ]
  },
  {
   "cell_type": "code",
   "execution_count": 11,
   "metadata": {},
   "outputs": [],
   "source": [
    "mycursor = mydb.cursor(buffered=True)"
   ]
  },
  {
   "cell_type": "code",
   "execution_count": 12,
   "metadata": {},
   "outputs": [],
   "source": [
    "mycursor.execute(\"DROP TABLE IF EXISTS maininfo\")\n",
    "mycursor.execute(\"CREATE TABLE maininfo (rank_id VARCHAR(255), release_name VARCHAR(255),gross VARCHAR(255),theater VARCHAR(255),total_gross VARCHAR(255),release_date VARCHAR(255))\")\n",
    "#mycursor.execute(\"SHOW TABLES\")"
   ]
  },
  {
   "cell_type": "code",
   "execution_count": 13,
   "metadata": {},
   "outputs": [],
   "source": [
    "def maininfo_sql(main_info):\n",
    "  for i in main_info:\n",
    "    sql= \"INSERT INTO maininfo (rank_id,release_name,gross,theater,total_gross,release_date) VALUES (%s,%s,%s,%s,%s,%s)\"\n",
    "    val=tuple(i)\n",
    "    mycursor.execute(sql, val)\n",
    "  \n",
    "  mydb.commit()"
   ]
  },
  {
   "cell_type": "code",
   "execution_count": 14,
   "metadata": {},
   "outputs": [],
   "source": [
    "maininfo_sql(main_info2019)"
   ]
  },
  {
   "cell_type": "code",
   "execution_count": null,
   "metadata": {},
   "outputs": [],
   "source": [
    "mycursor.execute(\"DROP TABLE IF EXISTS details\")\n",
    "mycursor.execute(\"CREATE TABLE details (table_id VARCHAR(255), Domestic_percent VARCHAR(255),Dome_revenue VARCHAR(255),International_percent VARCHAR(255),Inte_revenue VARCHAR(255),Total_revnue VARCHAR(255),Company VARCHAR(255),Budget VARCHAR(255),Release_date VARCHAR(255),Duration VARCHAR(255),Genre VARCHAR(255),In_release VARCHAR(255),Widest_release VARCHAR(255))\")    \n",
    "mycursor.execute(\"SHOW TABLES\")"
   ]
  },
  {
   "cell_type": "code",
   "execution_count": null,
   "metadata": {},
   "outputs": [],
   "source": [
    "def details_sql(detail_final):\n",
    "  for i in detail_final:\n",
    "    new=[]\n",
    "    for j in i:\n",
    "      if type(j) is str:\n",
    "        new.append(j)\n",
    "      elif type(i) is list:\n",
    "        k=','.join(j)\n",
    "        new.append(k)\n",
    "    sql= \"INSERT INTO details (table_id, Domestic_percent,Dome_revenue,International_percent,Inte_revenue,Total_revnue,Company,Budget,Release_date,Duration,Genre,In_release,Widest_release) VALUES (%s,%s,%s,%s,%s,%s,%s,%s,%s,%s,%s,%s,%s)\"\n",
    "    val=tuple(new)\n",
    "    mycursor.execute(sql, val)\n",
    "\n",
    "  mydb.commit()"
   ]
  },
  {
   "cell_type": "code",
   "execution_count": null,
   "metadata": {},
   "outputs": [],
   "source": [
    "mydb.close"
   ]
  },
  {
   "cell_type": "code",
   "execution_count": null,
   "metadata": {},
   "outputs": [],
   "source": []
  }
 ],
 "metadata": {
  "kernelspec": {
   "display_name": "Python 3",
   "language": "python",
   "name": "python3"
  },
  "language_info": {
   "codemirror_mode": {
    "name": "ipython",
    "version": 3
   },
   "file_extension": ".py",
   "mimetype": "text/x-python",
   "name": "python",
   "nbconvert_exporter": "python",
   "pygments_lexer": "ipython3",
   "version": "3.7.4"
  }
 },
 "nbformat": 4,
 "nbformat_minor": 4
}
